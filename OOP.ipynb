{
 "cells": [
  {
   "cell_type": "markdown",
   "metadata": {},
   "source": [
    "## Object-Oriented Programming (OOP): \n",
    "\n",
    "- Attributes & Objects \n",
    "- Abstract Classes\n",
    "- Polymorphism\n",
    "- Abstraction \n",
    "- Encapsulation \n",
    "- Inheritance \n",
    "- Method Kinds\n",
    "\n",
    "## Sources: \n",
    "\n",
    "https://www.youtube.com/watch?v=iLRZi0Gu8Go\n",
    "\n",
    "https://www.youtube.com/watch?v=Ej_02ICOIgs&t=1054s\n",
    "\n",
    "OpenAI\n"
   ]
  },
  {
   "cell_type": "code",
   "execution_count": 1,
   "metadata": {},
   "outputs": [
    {
     "name": "stdout",
     "output_type": "stream",
     "text": [
      "Area of Square: 16\n",
      "Area of Rectangle: 20\n",
      "Area of Circle: 28.26\n"
     ]
    }
   ],
   "source": [
    "# General Example: \n",
    "\n",
    "class Shape: \n",
    "    def __init__(self, area):\n",
    "        self.area = area\n",
    "    \n",
    "    def update_area(self):\n",
    "        pass\n",
    "\n",
    "class Square(Shape):\n",
    "    def __init__(self,side):\n",
    "        self.side = side \n",
    "        self.update_area()\n",
    "        self.name = \"Square\"\n",
    "    \n",
    "    def update_area(self):\n",
    "        self.area = self.side * self.side\n",
    "\n",
    "class Rectangle(Shape):\n",
    "    def __init__(self,side1,side2):\n",
    "        self.side1 = side1\n",
    "        self.side2 = side2\n",
    "        self.update_area()\n",
    "        self.name = \"Rectangle\"\n",
    "    \n",
    "    def update_area(self):\n",
    "        self.area = self.side1 * self.side2\n",
    "    \n",
    "\n",
    "class Circle(Shape):\n",
    "    def __init__(self,radius):\n",
    "        self.radius = radius\n",
    "        self.update_area()\n",
    "        self.name = \"Circle\"\n",
    "    \n",
    "    def update_area(self):\n",
    "        self.area = self.radius**2 * 3.14\n",
    "\n",
    "shapes = []\n",
    "shapes.append(Square(4))\n",
    "shapes.append(Rectangle(4,5))\n",
    "shapes.append(Circle(3))\n",
    "\n",
    "for shape in shapes:\n",
    "    shape.update_area()\n",
    "    print(f\"Area of {shape.name}:\",shape.area)"
   ]
  },
  {
   "cell_type": "markdown",
   "metadata": {},
   "source": [
    "## Attributes & Objects\n",
    "\n",
    "Object: A specific instance of a class (e.g., a real dog, a real car).\n",
    "\n",
    "Attributes: Variables that belong to an object (e.g., color, age).\n",
    "\n"
   ]
  },
  {
   "cell_type": "code",
   "execution_count": 1,
   "metadata": {},
   "outputs": [
    {
     "name": "stdout",
     "output_type": "stream",
     "text": [
      "Buddy\n",
      "3\n"
     ]
    }
   ],
   "source": [
    "class Dog:\n",
    "    def __init__(self, name, age):\n",
    "        self.name = name    # Attribute\n",
    "        self.age = age      # Attribute\n",
    "\n",
    "# Create object\n",
    "dog1 = Dog(\"Buddy\", 3)\n",
    "\n",
    "print(dog1.name)  # Buddy\n",
    "print(dog1.age)   # 3"
   ]
  },
  {
   "cell_type": "markdown",
   "metadata": {},
   "source": [
    "### Abstract Classes\n",
    "\n",
    "A class that cannot be instantiated.\n",
    "\n",
    "It defines methods that child classes must implement.\n",
    "\n"
   ]
  },
  {
   "cell_type": "code",
   "execution_count": 20,
   "metadata": {},
   "outputs": [
    {
     "name": "stdout",
     "output_type": "stream",
     "text": [
      "Woof\n"
     ]
    }
   ],
   "source": [
    "from abc import ABC, abstractmethod\n",
    "\n",
    "class Animal(ABC):\n",
    "    @abstractmethod\n",
    "    def sound(self):\n",
    "        pass\n",
    "\n",
    "class Dog(Animal):\n",
    "    def sound(self):\n",
    "        return \"Woof\"\n",
    "\n",
    "dog = Dog()\n",
    "print(dog.sound())  # Woof"
   ]
  },
  {
   "cell_type": "markdown",
   "metadata": {},
   "source": [
    "### Polymorphism\n",
    "\n",
    "Same method name behaves differently depending on the class.\n"
   ]
  },
  {
   "cell_type": "code",
   "execution_count": 21,
   "metadata": {},
   "outputs": [
    {
     "name": "stdout",
     "output_type": "stream",
     "text": [
      "Meow\n",
      "Woof\n"
     ]
    }
   ],
   "source": [
    "class Cat:\n",
    "    def sound(self):\n",
    "        return \"Meow\"\n",
    "\n",
    "class Dog:\n",
    "    def sound(self):\n",
    "        return \"Woof\"\n",
    "\n",
    "# Polymorphism in action\n",
    "animals = [Cat(), Dog()]\n",
    "\n",
    "for animal in animals:\n",
    "    print(animal.sound())"
   ]
  },
  {
   "cell_type": "markdown",
   "metadata": {},
   "source": [
    "### Abstraction\n",
    "\n",
    "Hiding complex details and only showing the essential features.\n",
    "\n",
    "In Python, usually done using abstract classes or simple method hiding.\n"
   ]
  },
  {
   "cell_type": "code",
   "execution_count": 22,
   "metadata": {},
   "outputs": [
    {
     "name": "stdout",
     "output_type": "stream",
     "text": [
      "Engine started\n",
      "Car is moving\n"
     ]
    }
   ],
   "source": [
    "class Car:\n",
    "    def start_engine(self):\n",
    "        print(\"Engine started\")\n",
    "        \n",
    "    def drive(self):\n",
    "        self.start_engine()  # Hidden detail\n",
    "        print(\"Car is moving\")\n",
    "\n",
    "my_car = Car()\n",
    "my_car.drive()"
   ]
  },
  {
   "cell_type": "markdown",
   "metadata": {},
   "source": [
    "### Encapsulation\n",
    "\n",
    "Restricting access to internal variables and methods.\n",
    "\n",
    "Done by using private attributes (_var or __var).\n"
   ]
  },
  {
   "cell_type": "code",
   "execution_count": 23,
   "metadata": {},
   "outputs": [
    {
     "name": "stdout",
     "output_type": "stream",
     "text": [
      "150\n"
     ]
    }
   ],
   "source": [
    "class BankAccount:\n",
    "    def __init__(self, balance):\n",
    "        self.__balance = balance   # Private attribute\n",
    "\n",
    "    def deposit(self, amount):\n",
    "        self.__balance += amount\n",
    "\n",
    "    def get_balance(self):\n",
    "        return self.__balance\n",
    "account = BankAccount(100)\n",
    "account.deposit(50)\n",
    "print(account.get_balance())  # 150\n",
    "# print(account.__balance)    # Error! Private attribute"
   ]
  },
  {
   "cell_type": "markdown",
   "metadata": {},
   "source": [
    "### Inheritance\n",
    "\n",
    "A class inherits attributes and methods from another class.\n"
   ]
  },
  {
   "cell_type": "code",
   "execution_count": 24,
   "metadata": {},
   "outputs": [
    {
     "name": "stdout",
     "output_type": "stream",
     "text": [
      "Animal moves\n",
      "Woof!\n"
     ]
    }
   ],
   "source": [
    "class Animal:\n",
    "    def move(self):\n",
    "        print(\"Animal moves\")\n",
    "\n",
    "class Dog(Animal):  # Dog inherits from Animal\n",
    "    def bark(self):\n",
    "        print(\"Woof!\")\n",
    "\n",
    "my_dog = Dog()\n",
    "my_dog.move()  # Inherited\n",
    "my_dog.bark()  # Own method"
   ]
  },
  {
   "cell_type": "markdown",
   "metadata": {},
   "source": [
    "### Method Kinds\n",
    "\n",
    "| Method Type      | Decorator Used      | Purpose                               |\n",
    "|------------------|----------------------|---------------------------------------|\n",
    "| Instance Method  | (default, no decorator) | Works with object attributes         |\n",
    "| Class Method     | @classmethod         | Works with the class itself, not object |\n",
    "| Static Method    | @staticmethod        | Utility method, doesn’t access class or object |\n"
   ]
  },
  {
   "cell_type": "code",
   "execution_count": 25,
   "metadata": {},
   "outputs": [
    {
     "name": "stdout",
     "output_type": "stream",
     "text": [
      "5\n",
      "This class performs math operations.\n",
      "20\n"
     ]
    }
   ],
   "source": [
    "class MathOperations:\n",
    "    def add(self, a, b):            # Instance method\n",
    "        return a + b\n",
    "    \n",
    "    @classmethod\n",
    "    def description(cls):           # Class method\n",
    "        return \"This class performs math operations.\"\n",
    "\n",
    "    @staticmethod\n",
    "    def multiply(a, b):             # Static method\n",
    "        return a * b\n",
    "\n",
    "math = MathOperations()\n",
    "print(math.add(2, 3))         # 5\n",
    "print(MathOperations.description())  # Math operations\n",
    "print(MathOperations.multiply(4, 5)) # 20"
   ]
  },
  {
   "cell_type": "markdown",
   "metadata": {},
   "source": [
    "### super()\n",
    "\n",
    "Used to call methods from the parent class inside a child class.\n",
    "\n",
    "Helps reuse code from the parent without repeating.\n"
   ]
  },
  {
   "cell_type": "code",
   "execution_count": 26,
   "metadata": {},
   "outputs": [
    {
     "name": "stdout",
     "output_type": "stream",
     "text": [
      "Animal moves\n",
      "Dog walks on four legs\n"
     ]
    }
   ],
   "source": [
    "class Animal:\n",
    "    def move(self):\n",
    "        print(\"Animal moves\")\n",
    "\n",
    "class Dog(Animal):\n",
    "    def move(self):\n",
    "        super().move()  # Call parent method\n",
    "        print(\"Dog walks on four legs\")\n",
    "\n",
    "dog = Dog()\n",
    "dog.move()"
   ]
  },
  {
   "cell_type": "markdown",
   "metadata": {},
   "source": [
    "### Magic Methods (Dunder Methods)\n",
    "\n",
    "Special methods with double underscores (__) to control built-in behavior.\n",
    "\n",
    "> Examples: `__init__, __str__, __len__, __eq__, __add__,` etc.\n"
   ]
  },
  {
   "cell_type": "code",
   "execution_count": 27,
   "metadata": {},
   "outputs": [
    {
     "name": "stdout",
     "output_type": "stream",
     "text": [
      "Book: Python Programming\n"
     ]
    }
   ],
   "source": [
    "class Book:\n",
    "    def __init__(self, title):\n",
    "        self.title = title\n",
    "    \n",
    "    def __str__(self):\n",
    "        return f\"Book: {self.title}\"\n",
    "\n",
    "book = Book(\"Python Programming\")\n",
    "print(book)  # Automatically calls __str__()"
   ]
  },
  {
   "cell_type": "markdown",
   "metadata": {},
   "source": [
    "### Multiple Inheritance\n",
    "\n",
    "A class can inherit from more than one parent class.\n",
    "\n"
   ]
  },
  {
   "cell_type": "code",
   "execution_count": 28,
   "metadata": {},
   "outputs": [
    {
     "name": "stdout",
     "output_type": "stream",
     "text": [
      "Gardening\n"
     ]
    }
   ],
   "source": [
    "class Father:\n",
    "    def skills(self):\n",
    "        print(\"Gardening\")\n",
    "\n",
    "class Mother:\n",
    "    def skills(self):\n",
    "        print(\"Cooking\")\n",
    "\n",
    "class Child(Father, Mother):\n",
    "    pass\n",
    "\n",
    "c = Child()\n",
    "c.skills()  # Gardening (because Father is listed first)"
   ]
  },
  {
   "cell_type": "markdown",
   "metadata": {},
   "source": [
    "### Composition (\"Has-A\" Relationship)\n",
    "\n",
    "Instead of \"is-a\", it’s \"has-a\".\n",
    "\n",
    "Use other classes inside a class.\n",
    "\n"
   ]
  },
  {
   "cell_type": "code",
   "execution_count": 29,
   "metadata": {},
   "outputs": [
    {
     "name": "stdout",
     "output_type": "stream",
     "text": [
      "Engine starts\n"
     ]
    }
   ],
   "source": [
    "class Engine:\n",
    "    def start(self):\n",
    "        print(\"Engine starts\")\n",
    "\n",
    "class Car:\n",
    "    def __init__(self):\n",
    "        self.engine = Engine()  # Composition\n",
    "\n",
    "    def start(self):\n",
    "        self.engine.start()\n",
    "\n",
    "my_car = Car()\n",
    "my_car.start()"
   ]
  },
  {
   "cell_type": "markdown",
   "metadata": {},
   "source": [
    "### Private/Protected Members\n",
    "\n",
    "_var: Protected, hint: \"don't touch outside the class\".\n",
    "\n",
    "__var: Private, harder to access from outside.\n",
    "\n"
   ]
  },
  {
   "cell_type": "code",
   "execution_count": 30,
   "metadata": {},
   "outputs": [
    {
     "name": "stdout",
     "output_type": "stream",
     "text": [
      "Protected\n"
     ]
    }
   ],
   "source": [
    "class Person:\n",
    "    def __init__(self):\n",
    "        self._protected = \"Protected\"\n",
    "        self.__private = \"Private\"\n",
    "\n",
    "p = Person()\n",
    "print(p._protected)   # Accessible (but should be careful)\n",
    "# print(p.__private)  # Error"
   ]
  },
  {
   "cell_type": "markdown",
   "metadata": {},
   "source": [
    "### Property Decorators (@property)\n",
    "\n",
    "To control access to attributes like a function but behave like a variable.\n",
    "\n"
   ]
  },
  {
   "cell_type": "code",
   "execution_count": 31,
   "metadata": {},
   "outputs": [
    {
     "name": "stdout",
     "output_type": "stream",
     "text": [
      "100\n",
      "200\n"
     ]
    }
   ],
   "source": [
    "class Product:\n",
    "    def __init__(self, price):\n",
    "        self._price = price\n",
    "\n",
    "    @property\n",
    "    def price(self):\n",
    "        return self._price\n",
    "\n",
    "    @price.setter\n",
    "    def price(self, value):\n",
    "        if value >= 0:\n",
    "            self._price = value\n",
    "        else:\n",
    "            raise ValueError(\"Price cannot be negative\")\n",
    "\n",
    "p = Product(100)\n",
    "print(p.price)  # 100\n",
    "p.price = 200\n",
    "print(p.price)  # 200"
   ]
  },
  {
   "cell_type": "markdown",
   "metadata": {},
   "source": [
    "### Operator Overloading\n",
    "\n",
    "Operator overloading lets you customize how operators like +, -, *, ==, etc., behave for your own classes.\n",
    "\n",
    "Normally, + adds two numbers.\n",
    "\n",
    "But you can make + add two vectors, combine two strings in a special way, merge two objects, etc.\n",
    "\n",
    "It’s done by defining magic methods like `__add__(), __eq__(), __lt__()`, etc.\n"
   ]
  },
  {
   "cell_type": "code",
   "execution_count": 32,
   "metadata": {},
   "outputs": [
    {
     "name": "stdout",
     "output_type": "stream",
     "text": [
      "(4, 6)\n"
     ]
    }
   ],
   "source": [
    "class Vector:\n",
    "    def __init__(self, x, y):\n",
    "        self.x = x\n",
    "        self.y = y\n",
    "\n",
    "    def __add__(self, other):\n",
    "        return Vector(self.x + other.x, self.y + other.y)\n",
    "\n",
    "    def __str__(self):\n",
    "        return f\"({self.x}, {self.y})\"\n",
    "\n",
    "v1 = Vector(1, 2)\n",
    "v2 = Vector(3, 4)\n",
    "\n",
    "v3 = v1 + v2   # Calls __add__()\n",
    "print(v3)      # Output: (4, 6)"
   ]
  },
  {
   "cell_type": "markdown",
   "metadata": {},
   "source": [
    "usecases: \n",
    "\n",
    "- Working with mathematical objects: Vectors, Matrices, Complex Numbers\n",
    "\n",
    "- Custom string or data merging: Custom text classes, filename generators\n",
    "\n",
    "- Custom comparison: Sorting custom objects based on properties\n",
    "\n",
    "### Metaclasses\n",
    "\n",
    "Metaclasses are classes that create classes.\n",
    "\n",
    "Normally, in Python: classes create objects.\n",
    "\n",
    "Metaclasses create classes themselves.\n",
    "\n",
    "It gives you control over class creation: you can modify the class, add methods automatically, validate attributes, etc.\n"
   ]
  },
  {
   "cell_type": "code",
   "execution_count": 33,
   "metadata": {},
   "outputs": [
    {
     "name": "stdout",
     "output_type": "stream",
     "text": [
      "Hello!\n"
     ]
    }
   ],
   "source": [
    "class MyMeta(type): # MyMeta is a class that creates classes.\n",
    "    def __new__(cls, name, bases, dct):  \n",
    "        # __new__() is called when a new class is being created, not an object yet.\n",
    "        # cls: the metaclass (MyMeta itself)\n",
    "        # name: the name of the class being created ('MyClass')\n",
    "        # bases: the parent classes (() because MyClass has no parent)\n",
    "        # dct: dictionary of attributes/methods of the class being created\n",
    "        dct['say_hello'] = lambda self: print(\"Hello!\")\n",
    "        # \"Hey Python, when you create this class, also add a method called say_hello that prints 'Hello'.\"\n",
    "        \n",
    "        return super().__new__(cls, name, bases, dct)\n",
    "\n",
    "class MyClass(metaclass=MyMeta): \n",
    "    # MyClass is built using MyMeta, not normal type.\n",
    "    pass\n",
    "\n",
    "obj = MyClass()\n",
    "obj.say_hello()  # Output: Hello!"
   ]
  },
  {
   "cell_type": "markdown",
   "metadata": {},
   "source": [
    "A `lambda` is a small anonymous function.\n",
    "\n",
    "It has no name (unlike def my_function():).\n",
    "\n",
    "It’s mainly used for quick, simple functions you don’t want to formally define.\n",
    "\n",
    "`lambda arguments: expression`\n"
   ]
  },
  {
   "cell_type": "code",
   "execution_count": null,
   "metadata": {},
   "outputs": [],
   "source": [
    "add = lambda x, y: x + y\n",
    "print(add(3, 5))  \n",
    "\n",
    "# This is equivalent to:\n",
    "\n",
    "def add(x, y):\n",
    "    return x + y"
   ]
  },
  {
   "cell_type": "markdown",
   "metadata": {},
   "source": [
    "### Another example for lambda: "
   ]
  },
  {
   "cell_type": "code",
   "execution_count": 35,
   "metadata": {},
   "outputs": [
    {
     "name": "stdout",
     "output_type": "stream",
     "text": [
      "16\n"
     ]
    }
   ],
   "source": [
    "square = lambda x: x**2\n",
    "\n",
    "print(square(4))  # Output: 16"
   ]
  },
  {
   "cell_type": "markdown",
   "metadata": {},
   "source": [
    "### Another example for metaclass"
   ]
  },
  {
   "cell_type": "code",
   "execution_count": 36,
   "metadata": {},
   "outputs": [
    {
     "name": "stdout",
     "output_type": "stream",
     "text": [
      "Running the task...\n"
     ]
    }
   ],
   "source": [
    "# Define a Metaclass\n",
    "class RunEnforcerMeta(type):\n",
    "    def __new__(cls, name, bases, dct):\n",
    "        if 'run' not in dct:\n",
    "            raise TypeError(f\"Class '{name}' must implement a 'run()' method\")\n",
    "        return super().__new__(cls, name, bases, dct)\n",
    "\n",
    "# Good Class (Correct)\n",
    "class Task(metaclass=RunEnforcerMeta):\n",
    "    def run(self):\n",
    "        print(\"Running the task...\")\n",
    "\n",
    "# Bad Class (Missing run())\n",
    "# This will raise an error immediately\n",
    "# class BadTask(metaclass=RunEnforcerMeta):\n",
    "#     def start(self):\n",
    "#         print(\"Starting...\")\n",
    "\n",
    "# Example usage\n",
    "task = Task()\n",
    "task.run()"
   ]
  },
  {
   "cell_type": "markdown",
   "metadata": {},
   "source": [
    "Metaclasses are NOT for everyday use.\n",
    "Use them when you are building libraries, frameworks, or enforcing rules across many classes automatically."
   ]
  },
  {
   "cell_type": "markdown",
   "metadata": {},
   "source": [
    "# Practice from Youtube: \n",
    "\n",
    "https://www.youtube.com/watch?v=iLRZi0Gu8Go"
   ]
  },
  {
   "cell_type": "code",
   "execution_count": 11,
   "metadata": {},
   "outputs": [
    {
     "name": "stdout",
     "output_type": "stream",
     "text": [
      "<class '__main__.Item'>\n",
      "<class 'str'>\n",
      "<class 'int'>\n",
      "<class 'int'>\n"
     ]
    },
    {
     "data": {
      "text/plain": [
       "5000"
      ]
     },
     "execution_count": 11,
     "metadata": {},
     "output_type": "execute_result"
    }
   ],
   "source": [
    "# we wanna create the data type of our own to reuse it in the future easily \n",
    "\n",
    "class Item: \n",
    "    # functions in the classes are called methods \n",
    "    def calculate_total_price(self,x,y): \n",
    "        return x*y\n",
    "\n",
    "\n",
    "item1 = Item()\n",
    "# creating attributes: \n",
    "item1.name = \"Phone\"\n",
    "item1.price = 100\n",
    "item1.quantity = 5 \n",
    "# each of the attributes are assigned to one instance of the class\n",
    "item1.calculate_total_price(item1.price,item1.quantity)\n",
    "\n",
    "\n",
    "print(type(item1))\n",
    "print(type(item1.name))\n",
    "print(type(item1.price))\n",
    "print(type(item1.quantity))\n",
    "\n",
    "item2 = Item() \n",
    "item2.name = \"Laptop\"\n",
    "item2.price = 1000\n",
    "item2.quantity = 3 \n",
    "item2.calculate_total_price(item2.price,item1.quantity)\n"
   ]
  },
  {
   "cell_type": "code",
   "execution_count": 12,
   "metadata": {},
   "outputs": [
    {
     "name": "stdout",
     "output_type": "stream",
     "text": [
      "It Is Created\n",
      "It Is Created\n"
     ]
    },
    {
     "data": {
      "text/plain": [
       "5000"
      ]
     },
     "execution_count": 12,
     "metadata": {},
     "output_type": "execute_result"
    }
   ],
   "source": [
    "class Item: \n",
    "    def __init__(self):\n",
    "        print(\"It Is Created\")\n",
    "\n",
    "    def calculate_total_price(self,x,y): \n",
    "        return x*y\n",
    "\n",
    "\n",
    "item1 = Item()\n",
    "# creating attributes: \n",
    "item1.name = \"Phone\"\n",
    "item1.price = 100\n",
    "item1.quantity = 5 \n",
    "item1.calculate_total_price(item1.price,item1.quantity)\n",
    "\n",
    "item2 = Item() \n",
    "item2.name = \"Laptop\"\n",
    "item2.price = 1000\n",
    "item2.quantity = 3 \n",
    "item2.calculate_total_price(item2.price,item1.quantity)\n"
   ]
  },
  {
   "cell_type": "code",
   "execution_count": 13,
   "metadata": {},
   "outputs": [
    {
     "name": "stdout",
     "output_type": "stream",
     "text": [
      "An instance created: Phone\n",
      "An instance created: Laptop\n"
     ]
    },
    {
     "data": {
      "text/plain": [
       "5000"
      ]
     },
     "execution_count": 13,
     "metadata": {},
     "output_type": "execute_result"
    }
   ],
   "source": [
    "\n",
    "class Item: \n",
    "    def __init__(self,name):\n",
    "        print(f\"An instance created: {name}\")\n",
    "\n",
    "    def calculate_total_price(self,x,y): \n",
    "        return x*y\n",
    "\n",
    "\n",
    "item1 = Item(\"Phone\")\n",
    "# creating attributes: \n",
    "item1.name = \"Phone\"\n",
    "item1.price = 100\n",
    "item1.quantity = 5 \n",
    "item1.calculate_total_price(item1.price,item1.quantity)\n",
    "\n",
    "item2 = Item(\"Laptop\") \n",
    "item2.name = \"Laptop\"\n",
    "item2.price = 1000\n",
    "item2.quantity = 3 \n",
    "item2.calculate_total_price(item2.price,item1.quantity)\n"
   ]
  },
  {
   "cell_type": "code",
   "execution_count": 14,
   "metadata": {},
   "outputs": [],
   "source": [
    "name = \"Hamed\"  # object\n",
    "age = 26 # object\n",
    "# print(type(name)) # it's class str (string object) \n",
    "# print(type(age)) # this is class int (integer object)\n",
    "# # so objects are made from classes \n",
    "# # class describes that what the object should be look like \n",
    "# print(name.upper()) # manipulating the object and making it all uppecase letters \n",
    "\n",
    "# string object is built from string class and we have some method and functions that can be applied to the objects of class str \n",
    "\n"
   ]
  },
  {
   "cell_type": "code",
   "execution_count": 15,
   "metadata": {},
   "outputs": [
    {
     "name": "stdout",
     "output_type": "stream",
     "text": [
      "Hamed\n",
      "John\n"
     ]
    }
   ],
   "source": [
    "class Dog: \n",
    "    def __init__(self,name,breed,owner):   # defining some data fields for the class \n",
    "        # self referes to the instance of specific object of the class itself \n",
    "        self.name = name\n",
    "        self.breed = breed \n",
    "        self.owner = owner\n",
    "\n",
    "    # here we can define attributes, methods, and functions\n",
    "    def bark(self):\n",
    "        print(\"Whoof Whoof\")\n",
    "    # self is the reference to the object that we are working with\n",
    "\n",
    "class Owner: \n",
    "    def __init__(self,name,address,contact_number):\n",
    "        self.name = name\n",
    "        self.address = address\n",
    "        self.contact_number = contact_number\n",
    "\n",
    "\n",
    "owner1 = Owner(\"Hamed\",\"1234 Main St\",\"123-456-7890\")\n",
    "dog1 = Dog(\"Tommy\",\"German Shepherd\",owner1)\n",
    "# dog1.bark() # accessing the method of the class Dog \n",
    "# print(dog1.name)\n",
    "# print(dog1.breed)\n",
    "print(dog1.owner.name)\n",
    "\n",
    "\n",
    "owner2 = Owner(\"John\",\"1234 Main St\",\"123-456-7890\")\n",
    "dog2 = Dog(\"freya\",\"Golden Retriever\",owner2)\n",
    "# dog2.bark()\n",
    "# print(dog2.name)\n",
    "# print(dog2.breed)\n",
    "print(dog2.owner.name)\n",
    "\n",
    "# when we instantiate the dog object, we pass in the variables (name, breed, owner)\n",
    "# then the self should have the a name attribute assigned to the name we pass in \n",
    "\n",
    "# when we create an object from the class, we are instantiating the class and the object is an instance of the class\n",
    "\n",
    "\n"
   ]
  },
  {
   "cell_type": "code",
   "execution_count": 16,
   "metadata": {},
   "outputs": [
    {
     "name": "stdout",
     "output_type": "stream",
     "text": [
      "Hello my name is Hamed and I am 26 years old\n",
      "Hello my name is Bob and I am 42 years old\n"
     ]
    }
   ],
   "source": [
    "class Person: \n",
    "    def __init__(self,name,age):\n",
    "        self.name = name # attributes (stores name of the object)\n",
    "        self.age = age\n",
    "\n",
    "    def greet(self): # methods \n",
    "        print(f\"Hello my name is {self.name} and I am {self.age} years old\")\n",
    "\n",
    "person1 = Person(\"Hamed\",\"26\") # specific instance of a class that gives the object access to its own attributes \n",
    "person1.greet() # person1 has its own greet method (specific for person1)\n",
    "\n",
    "person2 = Person(\"Bob\",\"42\")\n",
    "person2.greet() # person2 has its own greet method\n",
    "\n"
   ]
  },
  {
   "cell_type": "code",
   "execution_count": 17,
   "metadata": {},
   "outputs": [
    {
     "name": "stdout",
     "output_type": "stream",
     "text": [
      "Sending message to Batman: Hi Batman, it's Hamed\n"
     ]
    }
   ],
   "source": [
    "class User: \n",
    "    def __init__(self,username, email, password):\n",
    "        self.username = username\n",
    "        self.email = email\n",
    "        self.password = password\n",
    "    \n",
    "    def say_hi_to_user(self,user):\n",
    "        print(f\"Sending message to {user.username}: Hi {user.username}, it's {self.username}\")\n",
    "\n",
    "user1 = User(\"Hamed\",\"hamed98.gmail.com\",\"1234\")\n",
    "user2 = User(\"Batman\",\"bat@outlook.com\",\"abc\")\n",
    "\n",
    "user1.say_hi_to_user(user2)\n",
    "\n"
   ]
  },
  {
   "cell_type": "code",
   "execution_count": 18,
   "metadata": {},
   "outputs": [],
   "source": [
    "class User: \n",
    "    def __init__(self,username, email, password):\n",
    "        self.username = username\n",
    "        self.email = email\n",
    "        self.password = password\n",
    "    \n",
    "    def say_hi_to_user(self,user):\n",
    "        print(f\"Sending message to {user.username}: Hi {user.username}, it's {self.username}\")\n",
    "\n",
    "user1 = User(\"Hamed\",\"hamed98.gmail.com\",\"1234\")\n",
    "\n",
    "# we can assign a new value to the email (modify the attribute)\n",
    "user1.email = \"danny@gmail.com\"\n"
   ]
  },
  {
   "cell_type": "code",
   "execution_count": 19,
   "metadata": {},
   "outputs": [
    {
     "name": "stdout",
     "output_type": "stream",
     "text": [
      "HameD98@gmail.com\n",
      "hamed98@gmail.com\n"
     ]
    },
    {
     "ename": "AttributeError",
     "evalue": "'User' object has no attribute '__password'",
     "output_type": "error",
     "traceback": [
      "\u001b[31m---------------------------------------------------------------------------\u001b[39m",
      "\u001b[31mAttributeError\u001b[39m                            Traceback (most recent call last)",
      "\u001b[36mCell\u001b[39m\u001b[36m \u001b[39m\u001b[32mIn[19]\u001b[39m\u001b[32m, line 24\u001b[39m\n\u001b[32m     21\u001b[39m \u001b[38;5;28mprint\u001b[39m(user1._email)\n\u001b[32m     22\u001b[39m \u001b[38;5;28mprint\u001b[39m(user1.clean_email())\n\u001b[32m---> \u001b[39m\u001b[32m24\u001b[39m \u001b[38;5;28mprint\u001b[39m(\u001b[43muser1\u001b[49m\u001b[43m.\u001b[49m\u001b[43m__password\u001b[49m)\n",
      "\u001b[31mAttributeError\u001b[39m: 'User' object has no attribute '__password'"
     ]
    }
   ],
   "source": [
    "# Since the attribute can be changed like this easily, we need to make the attributes private \n",
    "# method1: \n",
    "# Accessing and modifying data (traditional way, popular in Java and C#), making the attribute protected: \n",
    "class User: \n",
    "    def __init__(self,username, email, password):\n",
    "        self.username = username\n",
    "        self._email = email # protected attribute (adding underscore) \n",
    "        self.__password = password \n",
    "        # if we add double underscore, it's a private attribute and python won't show it if we try to access it outside the class\n",
    "        # this means that we shouldn't read the attribute outside the class\n",
    "    \n",
    "    # def get_email(self): \n",
    "    #     return self._email\n",
    "    def clean_email(self):\n",
    "        return self._email.lower().strip()\n",
    "\n",
    "user1 = User(\"Hamed\",\"HameD98@gmail.com\",\"1234\")\n",
    "\n",
    "# print(user1._email) # we can still access the attribute in Python \n",
    "# # it's just signals to the developers that the email is protected since we used '_'.\n",
    "print(user1._email)\n",
    "print(user1.clean_email())\n",
    "\n",
    "print(user1.__password)\n",
    "\n",
    "\n"
   ]
  },
  {
   "cell_type": "code",
   "execution_count": null,
   "metadata": {},
   "outputs": [
    {
     "name": "stdout",
     "output_type": "stream",
     "text": [
      "Email accessed at 2025-02-17 23:22:00.278195\n",
      "danny@outlook.com\n"
     ]
    }
   ],
   "source": [
    "from datetime import datetime\n",
    "class User: \n",
    "    def __init__(self,username, email, password):\n",
    "        self.username = username\n",
    "        self.email = email \n",
    "        self.password = password \n",
    "\n",
    "    def get_email(self):\n",
    "        print(f\"Email accessed at {datetime.now()}\")\n",
    "        return self.email\n",
    "    \n",
    "    def set_email(self,new_email):\n",
    "        if \"@\" in new_email:\n",
    "            self.email = new_email\n",
    "\n",
    "user1 = User(\"Hamed\",\"HameD98@gmail.com\",\"1234\")\n",
    "\n",
    "user1.set_email(\"danny@outlook.com\")\n",
    "\n",
    "print(user1.get_email())\n"
   ]
  },
  {
   "cell_type": "code",
   "execution_count": null,
   "metadata": {},
   "outputs": [
    {
     "name": "stdout",
     "output_type": "stream",
     "text": [
      "Email accessed\n",
      "HameD98@gmail.com\n"
     ]
    }
   ],
   "source": [
    "# Accessing and Modifying Data: \n",
    "# Properties \n",
    "class User: \n",
    "    def __init__(self,username, email, password):\n",
    "        self.username = username\n",
    "        self._email = email \n",
    "        self.password = password \n",
    "    # a controlled way for getting and seting the data  \n",
    "    # creating as get property\n",
    "    @property \n",
    "    def email(self):\n",
    "        print(f\"Email accessed\")\n",
    "        return self._email\n",
    "    \n",
    "    # set property to update email\n",
    "    @email.setter\n",
    "    def email(self,new_email):\n",
    "        if \"@\" in new_email:\n",
    "            self._email = new_email\n",
    "\n",
    "user1 = User(\"Hamed\",\"HameD98@gmail.com\",\"1234\")\n",
    "print(user1.email)\n"
   ]
  },
  {
   "cell_type": "code",
   "execution_count": null,
   "metadata": {},
   "outputs": [
    {
     "name": "stdout",
     "output_type": "stream",
     "text": [
      "2\n",
      "2\n",
      "2\n",
      "Username:Hamed, Email: HameD98@gmail.com\n"
     ]
    }
   ],
   "source": [
    "# static attributes (shared among all instances of the class)\n",
    "# A static attribute (sometimes called a class attribte) is an attribute that belongs to the class itself, \n",
    "# not to any specific instance of the class \n",
    "# static atribute can be accessed through the class directly \n",
    "\n",
    "class User: \n",
    "\n",
    "    user_count = 0 # initially zero \n",
    "\n",
    "    def __init__(self,username, email):\n",
    "        self.username = username\n",
    "        self.email = email \n",
    "        User.user_count += 1\n",
    "    \n",
    "    def display_user(self):\n",
    "        print(f\"Username:{self.username}, Email: {self.email}\")\n",
    "\n",
    "\n",
    "user1 = User(\"Hamed\",\"HameD98@gmail.com\")\n",
    "user2 = User(\"sally123\",\"sally@gmail.com\")\n",
    "\n",
    "print(User.user_count)\n",
    "print(user1.user_count)\n",
    "print(user2.user_count)\n",
    "\n",
    "user1.display_user()\n",
    "\n",
    "\n",
    "# To define a static method, we use the @staticmethod decorator\n"
   ]
  },
  {
   "cell_type": "code",
   "execution_count": null,
   "metadata": {},
   "outputs": [
    {
     "name": "stdout",
     "output_type": "stream",
     "text": [
      "Hamed's new balance: $1200\n",
      "True\n"
     ]
    }
   ],
   "source": [
    "# Static vs. Instance Method Example \n",
    "\n",
    "class BankAccount: \n",
    "    MIN_BALANCE = 100 \n",
    "\n",
    "    def __init__(self,owner,balance = 0):\n",
    "        self.owner = owner \n",
    "        self._balance = balance\n",
    "    \n",
    "    def deposit(self,amount):\n",
    "        if amount > 0:\n",
    "            self._balance += amount \n",
    "            print(f\"{self.owner}'s new balance: ${self._balance}\")\n",
    "        else: \n",
    "            print(\"Invalid amount\")\n",
    "\n",
    "    @staticmethod \n",
    "    def is_valid_interest_rate(rate):\n",
    "        return 0 <= rate <=5\n",
    "\n",
    "account = BankAccount(\"Hamed\",1000)\n",
    "account.deposit(200)\n",
    "\n",
    "print(BankAccount.is_valid_interest_rate(3))\n",
    "\n"
   ]
  },
  {
   "cell_type": "code",
   "execution_count": null,
   "metadata": {},
   "outputs": [],
   "source": [
    "class BankAccount:\n",
    "    def __init(self,owner,balance = 0):\n",
    "        self.owner = owner\n",
    "        self._balance = balance \n",
    "    \n",
    "    def deposit(self,amount):\n",
    "        if self._is_valid_amount(amount): \n",
    "            self._balance += amount \n",
    "            self.__log_transaction(\"deposit\",amount)\n",
    "            print(f\"{self.owner}'s new balance: ${self._balance}\")\n",
    "        else: \n",
    "            print(\"Invalid amount\")\n",
    "    \n",
    "    def _is_valid_amount(self,amount):\n",
    "        return amount > 0\n",
    "\n",
    "    # creating private methods\n",
    "    def __log_transaction(self,transaction_type,amount):\n",
    "        print(f\"Logging {transaction_type} of ${amount}. New balance: ${self._balance}\")\n",
    "\n",
    "    @staticmethod \n",
    "    def is_valid_interest_rate(rate):\n",
    "        return 0 <= rate <= 5\n",
    "    \n",
    "\n",
    "account = BankAccount(\"Hamed\",1000)\n",
    "account.deposit(200)\n",
    "print(BankAccount.is_valid_interest_rate(3))\n",
    "\n",
    "account.__log_transaction(\"withdraw\",200) # this will give an error since the method is private and can't be accessed outside the class\n",
    "\n"
   ]
  },
  {
   "cell_type": "code",
   "execution_count": null,
   "metadata": {},
   "outputs": [
    {
     "name": "stdout",
     "output_type": "stream",
     "text": [
      "0.0\n",
      "100.0\n",
      "98.0\n"
     ]
    }
   ],
   "source": [
    "# Encapsulation:\n",
    "# It involves boundling the data (attributes) and the methods that operate on the data into a single unit (class)\n",
    "# Hiding the data from the outside world and only exposing the necessary data and methods\n",
    "\n",
    "#Example with no encapsulation: \n",
    "class BankAccount: \n",
    "    def __init__(self,balance):\n",
    "        self.balance = balance \n",
    "\n",
    "account = BankAccount(0.0)\n",
    "account.balance = -1\n",
    "# print(account.balance)\n",
    "# we'll see that it prints -1, which is not a valid balance for a bank account\n",
    "\n",
    "\n",
    "# Example with encapsulation:\n",
    "class BankAccount: \n",
    "    def __init__(self):\n",
    "        self._balance = 0.0 # making the balance a protected attribute, so we can't access it directly outside of the class \n",
    "        # We are encapsulating the balance attribute insdie the class\n",
    "    \n",
    "    @property\n",
    "    # create a get a property for balance\n",
    "    def balance(self):\n",
    "        return self._balance \n",
    "    \n",
    "    # deposite method: \n",
    "    def deposit(self,amount):\n",
    "        if amount <= 0:\n",
    "            raise ValueError(\"Deposite amount must be positive\")\n",
    "        self._balance += amount \n",
    "    \n",
    "    # withdraw method:\n",
    "    def withdraw(self,amount):\n",
    "        if amount <= 0: \n",
    "            raise ValueError(\"Withdraw amount must be positive\")\n",
    "        if amount > self.balance:\n",
    "            raise ValueError(\"Insufficient funds\")\n",
    "        self._balance -= amount\n",
    "\n",
    "account = BankAccount()\n",
    "print(account.balance)\n",
    "# account.balance = -1 # we'll get error \n",
    "account.deposit(100)\n",
    "print(account.balance)\n",
    "account.withdraw(2)\n",
    "print(account.balance)\n",
    "# print(account.withdraw(200)) # we'll get the error \"insufficient funds\"\n",
    "\n",
    "\n",
    "        \n"
   ]
  },
  {
   "cell_type": "code",
   "execution_count": null,
   "metadata": {},
   "outputs": [],
   "source": [
    "# Abstraction \n",
    "# Reduce complexity by hiding unnecessary details \n",
    "\n",
    "class EmailService:\n",
    "    def _connect(slef):\n",
    "        print(\"Connecting to the email server\")\n",
    "\n",
    "    def _authenticate(self):\n",
    "        print(\"Authenticating\")\n",
    "    \n",
    "    # sending email does not need to be hidden from the user so we don't need to use '_' for this method\n",
    "    def send_email(self):\n",
    "        self._connect()\n",
    "        self._authenticate()\n",
    "        print(\"Sending email...\")\n",
    "        self._disconnect()\n",
    "    \n",
    "    def _disconnect(self):\n",
    "        print(\"Disconnecting from email server\")\n",
    "\n",
    "# All these details are abstracted away from the user \n",
    "email = EmailService()\n",
    "email.send_email() # we only need to call the send_email method and the rest of the details are hidden from the user\n",
    "\n",
    "\n",
    "# If we don't use abstraction (meaning that not using '_' for some tasks), we have to do all these steps manually:\n",
    "class EmailService:\n",
    "    def connect(slef):\n",
    "        print(\"Connecting to the email server\")\n",
    "\n",
    "    def authenticate(self):\n",
    "        print(\"Authenticating\")\n",
    "\n",
    "    def send_email(self):\n",
    "        self.connect()\n",
    "        self.authenticate()\n",
    "        print(\"Sending email...\")\n",
    "        self.disconnect()\n",
    "    \n",
    "    def disconnect(self):\n",
    "        print(\"Disconnecting from email server\")\n",
    "\n",
    "email = EmailService()\n",
    "email.connect()\n",
    "email.authenticate()\n",
    "email.send_email() \n",
    "email.disconnect()\n",
    "\n",
    " \n",
    "# encapsulation focuses on boundling data or attributes and methods that operate on the data into a single unit (class) \n",
    "#(restricting access to the data)\n",
    "\n",
    "# abstraction focuses on hiding unnecessary details from the user and only showing the necessary details to the user\n",
    "# (simplifying usage of the class)\n",
    "\n",
    "\n"
   ]
  },
  {
   "cell_type": "code",
   "execution_count": null,
   "metadata": {},
   "outputs": [
    {
     "name": "stdout",
     "output_type": "stream",
     "text": [
      "{'brand': 'Toyota', 'model': 'Corolla', 'year': 2020, 'number_of_doors': 4, 'number_of_wheels': 4}\n",
      "{'brand': 'Honda', 'model': 'CBR', 'year': 2021, 'number_of_wheels': 2}\n"
     ]
    }
   ],
   "source": [
    "# Inheritance \n",
    "# It envolves creating new classes (subclasses, or derived classes) based on existing classes (superclasses, or base classes)\n",
    "\n",
    "# create a base class\n",
    "class Vehicle: \n",
    "    def __init__(self,brand,model,year):\n",
    "        self.brand = brand\n",
    "        self.model = model\n",
    "        self.year = year\n",
    "\n",
    "    def start(self):\n",
    "        print(\"Engine started\")\n",
    "    \n",
    "    def stop(self):\n",
    "        print(\"Engine stopped\")\n",
    "    \n",
    "# creating subclasses\n",
    "class Car(Vehicle): # the car class should inherit \n",
    "    def __init__(self,brand,model,year,number_of_doors,number_of_wheels):\n",
    "        super().__init__(brand,model,year)\n",
    "        self.number_of_doors = number_of_doors\n",
    "        self.number_of_wheels = number_of_wheels\n",
    "\n",
    "class Bike(Vehicle): # inherit Vehicle\n",
    "    def __init__(self,brand,model,year,number_of_wheels):\n",
    "        super().__init__(brand,model,year)\n",
    "        self.number_of_wheels = number_of_wheels\n",
    "\n",
    "car = Car(\"Toyota\",\"Corolla\",2020,4,4)\n",
    "bike = Bike(\"Honda\",\"CBR\",2021,2)\n",
    "\n",
    "print(car.__dict__)\n",
    "\n",
    "print(bike.__dict__)\n",
    "\n",
    "\n"
   ]
  },
  {
   "cell_type": "code",
   "execution_count": null,
   "metadata": {},
   "outputs": [
    {
     "name": "stdout",
     "output_type": "stream",
     "text": [
      "Inspecting Toyota Corolla Car\n",
      "Car is starting\n",
      "Car is stopping\n",
      "Inspecting Honda CBR Motorcycle\n",
      "Motorcycle is starting\n",
      "Motorcycle is stopping\n"
     ]
    }
   ],
   "source": [
    "# Polymorphism\n",
    "# The word means having multiple forms\n",
    "# It allows objects of different classes to be treated as objects of a common superclass\n",
    "\n",
    "# Example that has no polymorphism: \n",
    "class Car: \n",
    "    def __init__(self,brand,model,year,number_of_doors):\n",
    "        self.brand = brand\n",
    "        self.model = model\n",
    "        self.year = year \n",
    "        self.number_of_doors = number_of_doors\n",
    "    \n",
    "    def start_car(self):\n",
    "        print(\"Car is starting\")\n",
    "\n",
    "    def stop_car(self):\n",
    "        print(\"Car is stopping\")\n",
    "\n",
    "class Motorcycle:\n",
    "    def __init__(self,brand,model,year):\n",
    "        self.brand = brand\n",
    "        self.model = model\n",
    "        self.year = year \n",
    "    \n",
    "    def start_bike(self):\n",
    "        print(\"Motorcycle is starting\")\n",
    "    \n",
    "    def stop_bike(self):\n",
    "        print(\"Motorcycle is stopping\")\n",
    "\n",
    "# creating list of vehicles to inspect:\n",
    "Vehicles = [\n",
    "    Car(\"Toyota\",\"Corolla\",2020,4),\n",
    "    Motorcycle(\"Honda\",\"CBR\",2021)\n",
    "]\n",
    "\n",
    "# Loop through the list of vehicles and inspect them \n",
    "# note that here we don't have a common class to work with and we have separated classes \n",
    "for vehicle in Vehicles: \n",
    "    # vehicle.start() # there is no common method in the classes\n",
    "    if isinstance(vehicle,Car):\n",
    "        print(f\"Inspecting {vehicle.brand} {vehicle.model} {type(vehicle).__name__}\")\n",
    "        vehicle.start_car()\n",
    "        vehicle.stop_car()\n",
    "    elif isinstance(vehicle,Motorcycle):\n",
    "        print(f\"Inspecting {vehicle.brand} {vehicle.model} {type(vehicle).__name__}\")\n",
    "        vehicle.start_bike()\n",
    "        vehicle.stop_bike()\n",
    "    else: \n",
    "        raise Exception(\"Unknown vehicle type\")\n",
    "\n",
    "# The above code is not polymorphic since we have to check the type of the vehicle \n",
    "# and call the appropriate method based on the type of the vehicle\n",
    "\n",
    "# if we add more vehicle type, we need to modify the code and add more if conditions to check the type of the vehicle\n",
    "    \n",
    "\n",
    "\n",
    "\n"
   ]
  },
  {
   "cell_type": "code",
   "execution_count": null,
   "metadata": {},
   "outputs": [
    {
     "name": "stdout",
     "output_type": "stream",
     "text": [
      "Inspecting Toyota Corolla Car\n",
      "Car is starting\n",
      "Car is stopping\n",
      "Inspecting Honda CBR Motorcycle\n",
      "Motorcycle is starting\n",
      "Motorcycle is stopping\n"
     ]
    }
   ],
   "source": [
    "# Solving the issue with polymorphism:\n",
    "# creating a base class for all vehicles: \n",
    "class Vehicle:\n",
    "    def __init__(self,brand,model,year):\n",
    "        self.brand = brand\n",
    "        self.model = model\n",
    "        self.year = year\n",
    "    \n",
    "    def start(self):\n",
    "        print(\"Engine started\")\n",
    "    \n",
    "    def stop(self):\n",
    "        print(\"Engine stopped\")\n",
    "    \n",
    "\n",
    "class Car(Vehicle): \n",
    "    def __init__(self,brand,model,year,number_of_doors):\n",
    "        super().__init__(brand,model,year)\n",
    "        self.number_of_doors = number_of_doors\n",
    "    \n",
    "    def start(self):\n",
    "        print(\"Car is starting\")\n",
    "\n",
    "    def stop(self):\n",
    "        print(\"Car is stopping\")\n",
    "\n",
    "class Motorcycle(Vehicle):\n",
    "    def __init__(self,brand,model,year):\n",
    "        super().__init__(brand,model,year)\n",
    "    \n",
    "    def start(self):\n",
    "        print(\"Motorcycle is starting\")\n",
    "    \n",
    "    def stop(self):\n",
    "        print(\"Motorcycle is stopping\")\n",
    "\n",
    "\n",
    "# creating list of vehicles to inspect:\n",
    "Vehicles = [\n",
    "    Car(\"Toyota\",\"Corolla\",2020,4),\n",
    "    Motorcycle(\"Honda\",\"CBR\",2021)\n",
    "]\n",
    "\n",
    "Vehicles: list[Vehicle] = [\n",
    "    Car(\"Toyota\",\"Corolla\",2020,4),\n",
    "    Motorcycle(\"Honda\",\"CBR\",2021)\n",
    "]\n",
    "\n",
    "for vehicle in Vehicles: \n",
    "    if isinstance(vehicle,Vehicle): \n",
    "        print(f\"Inspecting {vehicle.brand} {vehicle.model} {type(vehicle).__name__}\")\n",
    "        vehicle.start()\n",
    "        vehicle.stop()\n",
    "    else: \n",
    "        raise Exception(\"Unknown vehicle type\")\n",
    "\n",
    "\n",
    "\n"
   ]
  },
  {
   "cell_type": "code",
   "execution_count": null,
   "metadata": {},
   "outputs": [
    {
     "name": "stdout",
     "output_type": "stream",
     "text": [
      "Inspecting Toyota Corolla Car\n",
      "Car is starting\n",
      "Car is stopping\n",
      "Inspecting Honda CBR Motorcycle\n",
      "Motorcycle is starting\n",
      "Motorcycle is stopping\n",
      "Inspecting Boeing 747 Plane\n",
      "Plane is starting\n",
      "Plane is stopping\n"
     ]
    }
   ],
   "source": [
    "# we can also do this: \n",
    "\n",
    "# adding another type of vehicle: \n",
    "class Plane(Vehicle):\n",
    "    def __init__(self,brand,model,year,number_of_engines):\n",
    "        super().__init__(brand,model,year)\n",
    "        self.number_of_engines = number_of_engines\n",
    "    \n",
    "    def start(self):\n",
    "        print(\"Plane is starting\")\n",
    "    \n",
    "    def stop(self):\n",
    "        print(\"Plane is stopping\")\n",
    "\n",
    "\n",
    "Vehicles: list[Vehicle] = [\n",
    "    Car(\"Toyota\",\"Corolla\",2020,4),\n",
    "    Motorcycle(\"Honda\",\"CBR\",2021),\n",
    "    Plane(\"Boeing\",\"747\",2021,4)\n",
    "]\n",
    "\n",
    "for vehicle in Vehicles: \n",
    "    print(f\"Inspecting {vehicle.brand} {vehicle.model} {type(vehicle).__name__}\")\n",
    "    vehicle.start()\n",
    "    vehicle.stop()\n",
    "    \n",
    "\n"
   ]
  },
  {
   "cell_type": "markdown",
   "metadata": {},
   "source": [
    "## Vector and Matrix Operations Library\n"
   ]
  },
  {
   "cell_type": "code",
   "execution_count": 54,
   "metadata": {},
   "outputs": [
    {
     "name": "stdout",
     "output_type": "stream",
     "text": [
      "Vector(2, 3, 1)\n",
      "Vector(4, 1, 1)\n",
      "Vector Add: Vector(6, 4, 2)\n",
      "Vector Scale (2x): Vector(4, 6, 2)\n",
      "Vector Magnitude: 3.7416573867739413\n",
      "Matrix([[1, 2], [3, 4]])\n",
      "Matrix([[5, 6], [7, 8]])\n",
      "Matrix Add: Matrix([[6, 8], [10, 12]])\n",
      "Matrix Scale (3x): Matrix([[3, 6], [9, 12]])\n",
      "Matrix Determinant: -2\n"
     ]
    }
   ],
   "source": [
    "from abc import ABC, abstractmethod\n",
    "\n",
    "# ===== Abstract Base Class =====\n",
    "class MathEntity(ABC):\n",
    "    @abstractmethod\n",
    "    def add(self, other):\n",
    "        pass\n",
    "\n",
    "    @abstractmethod\n",
    "    def scale(self, scalar):\n",
    "        pass\n",
    "\n",
    "# ===== Vector Class =====\n",
    "class Vector(MathEntity):\n",
    "    def __init__(self, x, y, z=0):\n",
    "        self._x = x\n",
    "        self._y = y\n",
    "        self._z = z\n",
    "\n",
    "    def __add__(self, other):\n",
    "        return Vector(self._x + other._x, self._y + other._y, self._z + other._z)\n",
    "\n",
    "    def add(self, other):\n",
    "        return self + other  # reuses __add__\n",
    "\n",
    "    def scale(self, scalar):\n",
    "        return Vector(self._x * scalar, self._y * scalar, self._z * scalar)  # FIXED: scaling z also\n",
    "\n",
    "    def __str__(self):\n",
    "        return f\"Vector({self._x}, {self._y}, {self._z})\"\n",
    "\n",
    "# ===== Matrix Class =====\n",
    "class Matrix(MathEntity):\n",
    "    def __init__(self, rows):\n",
    "        self._rows = rows\n",
    "\n",
    "    def __add__(self, other):\n",
    "        if not isinstance(other, Matrix):\n",
    "            raise ValueError(\"Can only add two Matrices\")\n",
    "        new_rows = []\n",
    "        for r1, r2 in zip(self._rows, other._rows):\n",
    "            new_row = [a + b for a, b in zip(r1, r2)]\n",
    "            new_rows.append(new_row)\n",
    "        return Matrix(new_rows)\n",
    "\n",
    "    def add(self, other):\n",
    "        return self + other\n",
    "\n",
    "    def scale(self, scalar):\n",
    "        new_rows = [[elem * scalar for elem in row] for row in self._rows]\n",
    "        return Matrix(new_rows)\n",
    "\n",
    "    def __mul__(self, other):\n",
    "        if not isinstance(other, Matrix):\n",
    "            raise ValueError(\"Can only multiply two Matrices\")\n",
    "        result = []\n",
    "        for i in range(len(self._rows)):\n",
    "            row = []\n",
    "            for j in range(len(other._rows[0])):\n",
    "                val = sum(self._rows[i][k] * other._rows[k][j] for k in range(len(other._rows)))\n",
    "                row.append(val)\n",
    "            result.append(row)\n",
    "        return Matrix(result)\n",
    "\n",
    "    def __str__(self):\n",
    "        return f\"Matrix({self._rows})\"\n",
    "\n",
    "# ===== Utility Functions (Composition) =====\n",
    "class MathUtils:\n",
    "    @staticmethod\n",
    "    def magnitude(vector):\n",
    "        return (vector._x**2 + vector._y**2 + vector._z**2)**0.5  # Added z for 3D magnitude\n",
    "\n",
    "    @staticmethod\n",
    "    def determinant(matrix):\n",
    "        if len(matrix._rows) != 2 or len(matrix._rows[0]) != 2:\n",
    "            raise ValueError(\"Only 2x2 matrices supported for determinant.\")\n",
    "        a, b = matrix._rows[0]\n",
    "        c, d = matrix._rows[1]\n",
    "        return a*d - b*c\n",
    "\n",
    "\n",
    "# ===== Main Program =====\n",
    "if __name__ == \"__main__\":\n",
    "    v1 = Vector(2, 3, 1)\n",
    "    v2 = Vector(4, 1, 1)\n",
    "\n",
    "    print(v1)  # Vector(2, 3)\n",
    "    print(v2)  # Vector(4, 1)\n",
    "    print(\"Vector Add:\", v1.add(v2))\n",
    "    print(\"Vector Scale (2x):\", v1.scale(2))\n",
    "    print(\"Vector Magnitude:\", MathUtils.magnitude(v1))\n",
    "\n",
    "    m1 = Matrix([[1,2], [3,4]])\n",
    "    m2 = Matrix([[5,6], [7,8]])\n",
    "\n",
    "    print(m1)  # Matrix([[1, 2], [3, 4]])\n",
    "    print(m2)  # Matrix([[5, 6], [7, 8]])\n",
    "    print(\"Matrix Add:\", m1.add(m2))\n",
    "    print(\"Matrix Scale (3x):\", m1.scale(3))\n",
    "    print(\"Matrix Determinant:\", MathUtils.determinant(m1))\n"
   ]
  },
  {
   "cell_type": "code",
   "execution_count": 63,
   "metadata": {},
   "outputs": [
    {
     "name": "stdout",
     "output_type": "stream",
     "text": [
      "Overwriting math_entities.py\n"
     ]
    }
   ],
   "source": [
    "%%writefile math_entities.py\n",
    "\n",
    "from abc import ABC, abstractmethod\n",
    "\n",
    "class MathEntity(ABC):\n",
    "    @abstractmethod\n",
    "    def add(self, other):\n",
    "        pass\n",
    "\n",
    "    @abstractmethod\n",
    "    def scale(self, scalar):\n",
    "        pass\n",
    "\n",
    "class Vector(MathEntity):\n",
    "    def __init__(self, x, y, z=0):\n",
    "        self._x = x\n",
    "        self._y = y\n",
    "        self._z = z\n",
    "\n",
    "    def add(self, other):\n",
    "        return Vector(self._x + other._x, self._y + other._y, self._z + other._z)\n",
    "\n",
    "    def scale(self, scalar):\n",
    "        return Vector(self._x * scalar, self._y * scalar, self._z * scalar)\n",
    "\n",
    "    def __add__(self, other):\n",
    "        return self.add(other)\n",
    "\n",
    "    def __str__(self):\n",
    "        return f\"Vector({self._x}, {self._y}, {self._z})\"\n",
    "\n",
    "# ===== Matrix Class =====\n",
    "class Matrix(MathEntity):\n",
    "    def __init__(self, rows):\n",
    "        self._rows = rows\n",
    "\n",
    "    def __add__(self, other):\n",
    "        if not isinstance(other, Matrix):\n",
    "            raise ValueError(\"Can only add two Matrices\")\n",
    "        new_rows = []\n",
    "        for r1, r2 in zip(self._rows, other._rows):\n",
    "            new_row = [a + b for a, b in zip(r1, r2)]\n",
    "            new_rows.append(new_row)\n",
    "        return Matrix(new_rows)\n",
    "\n",
    "    def add(self, other):\n",
    "        return self + other\n",
    "\n",
    "    def scale(self, scalar):\n",
    "        new_rows = [[elem * scalar for elem in row] for row in self._rows]\n",
    "        return Matrix(new_rows)\n",
    "\n",
    "    def __mul__(self, other):\n",
    "        if not isinstance(other, Matrix):\n",
    "            raise ValueError(\"Can only multiply two Matrices\")\n",
    "        result = []\n",
    "        for i in range(len(self._rows)):\n",
    "            row = []\n",
    "            for j in range(len(other._rows[0])):\n",
    "                val = sum(self._rows[i][k] * other._rows[k][j] for k in range(len(other._rows)))\n",
    "                row.append(val)\n",
    "            result.append(row)\n",
    "        return Matrix(result)\n",
    "\n",
    "    def __str__(self):\n",
    "        return f\"Matrix({self._rows})\"\n",
    "\n",
    "# ===== Utility Functions (Composition) =====\n",
    "class MathUtils:\n",
    "    @staticmethod\n",
    "    def magnitude(vector):\n",
    "        return (vector._x**2 + vector._y**2 + vector._z**2)**0.5  # Added z for 3D magnitude\n",
    "\n",
    "    @staticmethod\n",
    "    def determinant(matrix):\n",
    "        if len(matrix._rows) != 2 or len(matrix._rows[0]) != 2:\n",
    "            raise ValueError(\"Only 2x2 matrices supported for determinant.\")\n",
    "        a, b = matrix._rows[0]\n",
    "        c, d = matrix._rows[1]\n",
    "        return a*d - b*c\n",
    "\n",
    "# ===== Main Program =====\n",
    "if __name__ == \"__main__\":\n",
    "    v1 = Vector(2, 3, 1)\n",
    "    v2 = Vector(4, 1, 1)\n",
    "\n",
    "    print(v1)  # Vector(2, 3)\n",
    "    print(v2)  # Vector(4, 1)\n",
    "    print(\"Vector Add:\", v1.add(v2))\n",
    "    print(\"Vector Scale (2x):\", v1.scale(2))\n",
    "    print(\"Vector Magnitude:\", MathUtils.magnitude(v1))\n",
    "\n",
    "    m1 = Matrix([[1,2], [3,4]])\n",
    "    m2 = Matrix([[5,6], [7,8]])\n",
    "\n",
    "    print(m1)  # Matrix([[1, 2], [3, 4]])\n",
    "    print(m2)  # Matrix([[5, 6], [7, 8]])\n",
    "    print(\"Matrix Add:\", m1.add(m2))\n",
    "    print(\"Matrix Scale (3x):\", m1.scale(3))\n",
    "    print(\"Matrix Determinant:\", MathUtils.determinant(m1))\n"
   ]
  },
  {
   "cell_type": "code",
   "execution_count": null,
   "metadata": {},
   "outputs": [],
   "source": [
    "import unittest\n",
    "import importlib\n",
    "import math_entities\n",
    "importlib.reload(math_entities)  # Force reloading the updated file!\n",
    "from math_entities import Vector, Matrix\n",
    "\n",
    "# ===== Unit Tests =====\n",
    "class TestVector(unittest.TestCase):\n",
    "    def test_addition(self):\n",
    "        v1 = Vector(1, 2, 1)\n",
    "        v2 = Vector(3, 4, 1)\n",
    "        v3 = v1 + v2\n",
    "        self.assertEqual((v3._x, v3._y, v3._z), (4, 6, 2))  # fixed: include z also!\n",
    "\n",
    "if __name__ == \"__main__\":\n",
    "    unittest.main(argv=['first-arg-is-ignored'], exit=False)\n",
    "\n"
   ]
  },
  {
   "cell_type": "markdown",
   "metadata": {},
   "source": [
    "### Vector and Matrix Operations Library\n",
    "\n",
    "A Python library implementing core vector and matrix operations using Object-Oriented Programming (OOP) principles.\n",
    "Supports 2D/3D vectors, matrix arithmetic, operator overloading, custom exceptions, and utility functions for common math tasks.\n",
    "\n",
    "\n",
    "- Vectors: Addition, scaling, magnitude, 2D/3D support\n",
    "\n",
    "- Matrices: Addition, scalar multiplication, matrix multiplication, determinant\n",
    "\n",
    "- Operator Overloading: Natural syntax for addition (+), multiplication (*)\n",
    "\n",
    "- Encapsulation: Private and protected attributes\n",
    "\n",
    "- Inheritance and Abstraction: Abstract base classes (MathEntity)\n",
    "\n",
    "- Composition: Utility classes for math operations\n",
    "\n",
    "- Containerization: Docker-ready structure\n",
    "\n",
    "- Testing: Unit tests for all major components\n",
    "\n",
    "- CI/CD Ready: GitHub Actions support for automatic testing (optional)\n",
    "\n",
    "\n",
    "\n",
    "```\n",
    "/vector_matrix_library/\n",
    "├── math_entities.py  (Vector, Matrix, MathUtils)\n",
    "├── custom_exceptions.py\n",
    "├── tests/\n",
    "│    └── test_math_entities.py\n",
    "├── README.md\n",
    "```\n",
    "\n",
    "### Installation: \n",
    "\n",
    "```bash\n",
    "git clone https://github.com/yourusername/vector-matrix-library.git\n",
    "cd vector-matrix-library\n",
    "pip install .\n",
    "```\n",
    "\n",
    "\n",
    "### Running Tests: \n",
    "\n",
    "`python -m unittest discover tests/`\n",
    "\n",
    "### Project Structutre: \n",
    "\n",
    "```\n",
    "vector-matrix-library/\n",
    "├── math_entities.py\n",
    "├── custom_exceptions.py\n",
    "├── tests/\n",
    "│    └── test_math_entities.py\n",
    "├── Dockerfile  (optional if you want)\n",
    "├── README.md\n",
    "└── setup.py   (optional if you package it)\n",
    "\n",
    "```\n",
    "\n",
    "### Create This Directory and File\n",
    "\n",
    "Inside your GitHub repo, create:\n",
    "\n",
    "```\n",
    ".vector-matrix-library/\n",
    "├── .github/\n",
    "│    └── workflows/\n",
    "│         └── python-app.yml\n",
    "```\n",
    "\n",
    "## Full python-app.yml File Content\n",
    "\n",
    "```yaml\n",
    "name: Python application\n",
    "\n",
    "on:\n",
    "  push:\n",
    "    branches: [ \"main\" ]\n",
    "  pull_request:\n",
    "    branches: [ \"main\" ]\n",
    "\n",
    "jobs:\n",
    "  build:\n",
    "\n",
    "    runs-on: ubuntu-latest\n",
    "\n",
    "    steps:\n",
    "    - name: Checkout repository\n",
    "      uses: actions/checkout@v4\n",
    "\n",
    "    - name: Set up Python\n",
    "      uses: actions/setup-python@v5\n",
    "      with:\n",
    "        python-version: '3.12'\n",
    "\n",
    "    - name: Install dependencies\n",
    "      run: |\n",
    "        python -m pip install --upgrade pip\n",
    "        pip install -r requirements.txt || true  # Ignore if no requirements.txt\n",
    "\n",
    "    - name: Run tests\n",
    "      run: |\n",
    "        python -m unittest discover tests/\n",
    "\n",
    "```\n",
    "\n",
    "In your README.md, you can add at the top:\n",
    "\n",
    "`![Python application](https://github.com/yourusername/vector-matrix-library/actions/workflows/python-app.yml/badge.svg)`\n",
    "\n",
    "---\n"
   ]
  },
  {
   "cell_type": "markdown",
   "metadata": {},
   "source": [
    "## How to Create and Publish a Simple PyPI Package for Your Math Library\n",
    "\n",
    "\n",
    "### 1. Prepare Project Structure\n",
    "\n",
    "First, organize your project like this:\n",
    "\n",
    "```\n",
    "vector-matrix-library/\n",
    "├── math_entities/\n",
    "│    ├── __init__.py\n",
    "│    ├── vector.py\n",
    "│    ├── matrix.py\n",
    "│    ├── math_utils.py\n",
    "│    ├── custom_exceptions.py\n",
    "├── tests/\n",
    "│    └── test_math_entities.py\n",
    "├── setup.py\n",
    "├── README.md\n",
    "├── LICENSE\n",
    "├── .gitignore\n",
    "├── requirements.txt (optional)\n",
    "```\n",
    "\n",
    "Make sure `math_entities/` has an `__init__.py` (even if empty).\n",
    "\n",
    "---\n",
    "\n",
    "### 2. Create `setup.py`\n",
    "\n",
    "Inside your root folder (`vector-matrix-library/`), create a file called `setup.py`:\n",
    "\n",
    "```python\n",
    "from setuptools import setup, find_packages\n",
    "\n",
    "setup(\n",
    "    name='math-entities',  # Package name (must be unique on PyPI)\n",
    "    version='0.1.0',\n",
    "    description='Vector and Matrix operations library using OOP principles',\n",
    "    long_description=open('README.md').read(),\n",
    "    long_description_content_type='text/markdown',\n",
    "    author='Hamed Hosseinnejadazad',\n",
    "    author_email='your-email@example.com',\n",
    "    url='https://github.com/yourusername/vector-matrix-library',\n",
    "    packages=find_packages(),\n",
    "    install_requires=[],\n",
    "    classifiers=[\n",
    "        \"Programming Language :: Python :: 3\",\n",
    "        \"License :: OSI Approved :: MIT License\",\n",
    "        \"Operating System :: OS Independent\",\n",
    "        \"Intended Audience :: Developers\",\n",
    "        \"Topic :: Scientific/Engineering :: Mathematics\"\n",
    "    ],\n",
    "    python_requires='>=3.7',\n",
    ")\n",
    "```\n",
    "\n",
    "Update your `author_email` and `url` correctly.\n",
    "\n",
    "---\n",
    "\n",
    "### 3. Create `LICENSE`\n",
    "\n",
    "Example (MIT License):\n",
    "\n",
    "```\n",
    "MIT License\n",
    "\n",
    "Copyright (c) 2025 Hamed Hosseinnejadazad\n",
    "\n",
    "Permission is hereby granted, free of charge, to any person obtaining a copy...\n",
    "```\n",
    "\n",
    "Save it as `LICENSE`.\n",
    "\n",
    "\n",
    "---\n",
    "### 4. Create `README.md`\n",
    "\n",
    "You can use this template:\n",
    "\n",
    "```markdown\n",
    "## Math Entities\n",
    "\n",
    "A Python library for performing basic Vector and Matrix operations using OOP principles.\n",
    "\n",
    "### Features\n",
    "- 2D and 3D Vectors\n",
    "- Matrix addition, scaling, multiplication\n",
    "- Operator overloading\n",
    "- Encapsulation, Inheritance\n",
    "- Unit tests included\n",
    "\n",
    "### Installation\n",
    "\n",
    "```bash\n",
    "pip install math-entities\n",
    "```\n",
    "\n",
    "###  Usage\n",
    "\n",
    "```python\n",
    "from math_entities.vector import Vector\n",
    "\n",
    "v1 = Vector(1, 2)\n",
    "v2 = Vector(3, 4)\n",
    "print(v1 + v2)\n",
    "```\n",
    "\n",
    "### License\n",
    "\n",
    "MIT License\n",
    "\n",
    "\n",
    "Keep README clean and simple for users.\n",
    "\n",
    "---\n",
    "\n",
    "### 5. Install Packaging Tools\n",
    "\n",
    "Install these once:\n",
    "\n",
    "```bash\n",
    "pip install setuptools wheel twine\n",
    "```\n",
    "\n",
    "These packages help you build and upload to PyPI.\n",
    "\n",
    "---\n",
    "\n",
    "### 6. Build Your Package\n",
    "\n",
    "From inside your project folder:\n",
    "\n",
    "```bash\n",
    "python setup.py sdist bdist_wheel\n",
    "```\n",
    "\n",
    "It creates a `dist/` folder with `.tar.gz` and `.whl` files.\n",
    "\n",
    "---\n",
    "\n",
    "### 7. Upload to PyPI\n",
    "\n",
    "First, create an account at:  \n",
    "[https://pypi.org/account/register/](https://pypi.org/account/register/)\n",
    "\n",
    "Then upload your package:\n",
    "\n",
    "```bash\n",
    "twine upload dist/*\n",
    "```\n",
    "\n",
    "Enter your PyPI username and password when prompted.\n",
    "\n",
    "---\n",
    "\n",
    "### 8. Your Package is Live!\n",
    "\n",
    "Users can now install your package directly:\n",
    "\n",
    "```bash\n",
    "pip install math-entities\n",
    "```\n",
    "\n",
    "---\n",
    "\n",
    "### Notes\n",
    "\n",
    "- **Versioning**: Every time you upload a new version, bump the version number in `setup.py` (e.g., `0.1.1`, `0.2.0`).\n",
    "- **PyPI Name**: Must be globally unique. If `math-entities` is taken, try something like `math-entities-hamed`.\n",
    "- **Test Upload First**: You can first try uploading to [TestPyPI](https://test.pypi.org/) using:\n",
    "\n",
    "```bash\n",
    "twine upload --repository-url https://test.pypi.org/legacy/ dist/*\n",
    "```\n",
    "\n",
    "No risk if you make mistakes.\n",
    "\n",
    "---\n",
    "\n",
    "## Full Example Terminal Workflow\n",
    "\n",
    "```bash\n",
    "cd vector-matrix-library\n",
    "\n",
    "# Install tools (only first time)\n",
    "pip install setuptools wheel twine\n",
    "\n",
    "# Build package\n",
    "python setup.py sdist bdist_wheel\n",
    "\n",
    "# Upload to PyPI\n",
    "twine upload dist/*\n",
    "```\n"
   ]
  },
  {
   "cell_type": "markdown",
   "metadata": {},
   "source": []
  }
 ],
 "metadata": {
  "kernelspec": {
   "display_name": ".venv",
   "language": "python",
   "name": "python3"
  },
  "language_info": {
   "codemirror_mode": {
    "name": "ipython",
    "version": 3
   },
   "file_extension": ".py",
   "mimetype": "text/x-python",
   "name": "python",
   "nbconvert_exporter": "python",
   "pygments_lexer": "ipython3",
   "version": "3.12.0"
  },
  "metadata": {
   "interpreter": {
    "hash": "eee35a936f95e3717673e1555dba34111243b97e283c4d2b752665323843b0d3"
   }
  },
  "orig_nbformat": 2
 },
 "nbformat": 4,
 "nbformat_minor": 2
}
